{
 "cells": [
  {
   "cell_type": "code",
   "execution_count": 1,
   "metadata": {},
   "outputs": [
    {
     "name": "stdout",
     "output_type": "stream",
     "text": [
      "lab_2_svd_pca_de_termont_victoire_and_jallot_sarah.ipynb\n"
     ]
    }
   ],
   "source": [
    "# Change here using YOUR first and last names\n",
    "fn1 = \"Victoire\"  \n",
    "ln1 = \"de_Termont\"  \n",
    "fn2 = \"Sarah\"  \n",
    "ln2 = \"Jallot\"  \n",
    "filename = \"_\".join(map(lambda s: s.strip().lower(),\n",
    "                        [\"lab_2_svd_pca\", ln1, fn1, \"and\", ln2, fn2])) + \".ipynb\"\n",
    "print(filename)"
   ]
  },
  {
   "cell_type": "markdown",
   "metadata": {},
   "source": [
    "# Exercise 1 - Linear algebra"
   ]
  },
  {
   "cell_type": "markdown",
   "metadata": {},
   "source": [
    "### Question 1"
   ]
  },
  {
   "cell_type": "code",
   "execution_count": 2,
   "metadata": {},
   "outputs": [],
   "source": [
    "import numpy as np"
   ]
  },
  {
   "cell_type": "code",
   "execution_count": 3,
   "metadata": {},
   "outputs": [],
   "source": [
    "# Building the function to return both sides of the equation\n",
    "def equation_terms(n,p):\n",
    "    X = np.random.normal(0, np.sqrt(5), size=(n,p)) # Defining the gaussian matrix \n",
    "    l = 10e-5 # defining lambda\n",
    "    y = np.random.uniform(-1, 1, n) # Defining y with uniform distribution on [-1,1]\n",
    "    A = X@X.T + l*np.identity(n)\n",
    "    B = X.T@X + l*np.identity(p)\n",
    "    return X.T@np.linalg.solve(A, y), np.linalg.solve(B, X.T@y) # linalg.solve(a,b) returns x st ax=b\n",
    "\n",
    "# Building the function to know if we have equality or not\n",
    "\n",
    "def are_equal(A, B):\n",
    "    return np.allclose(A,B) # Returns equality with a little tolerance (because of calculation approximations)"
   ]
  },
  {
   "cell_type": "markdown",
   "metadata": {},
   "source": [
    "### a)"
   ]
  },
  {
   "cell_type": "code",
   "execution_count": 4,
   "metadata": {},
   "outputs": [
    {
     "data": {
      "text/plain": [
       "True"
      ]
     },
     "execution_count": 4,
     "metadata": {},
     "output_type": "execute_result"
    }
   ],
   "source": [
    "LHS, RHS = equation_terms(100,2000)\n",
    "are_equal(LHS, RHS)"
   ]
  },
  {
   "cell_type": "markdown",
   "metadata": {},
   "source": [
    "### b)"
   ]
  },
  {
   "cell_type": "code",
   "execution_count": 5,
   "metadata": {},
   "outputs": [
    {
     "data": {
      "text/plain": [
       "True"
      ]
     },
     "execution_count": 5,
     "metadata": {},
     "output_type": "execute_result"
    }
   ],
   "source": [
    "LHS, RHS = equation_terms(2000,100)\n",
    "are_equal(LHS, RHS)"
   ]
  },
  {
   "cell_type": "markdown",
   "metadata": {},
   "source": [
    "### Question 2"
   ]
  },
  {
   "cell_type": "code",
   "execution_count": 6,
   "metadata": {},
   "outputs": [],
   "source": [
    "# Defining functions to compute the left and right side of the equation respectively for a given (X,y) \n",
    "# with X of size (n,p)."
   ]
  },
  {
   "cell_type": "code",
   "execution_count": 7,
   "metadata": {},
   "outputs": [],
   "source": [
    "def left_function(X,y):\n",
    "    (n,p) = X.shape\n",
    "    l = 10e-5\n",
    "    A = X @ X.T + l * np.identity(n)\n",
    "    return X.T @ np.linalg.solve(A, y)"
   ]
  },
  {
   "cell_type": "markdown",
   "metadata": {},
   "source": [
    "Note that we take X and y as an input, otherwise we are going to compute them once again every time inside our functions which is not how the equation works.  "
   ]
  },
  {
   "cell_type": "code",
   "execution_count": 8,
   "metadata": {},
   "outputs": [],
   "source": [
    "def right_function(X,y):\n",
    "    (n,p) = X.shape\n",
    "    l = 10e-5\n",
    "    B = X.T @ X + l * np.identity(p)\n",
    "    return np.linalg.solve(B, X.T @ y)"
   ]
  },
  {
   "cell_type": "code",
   "execution_count": 9,
   "metadata": {},
   "outputs": [],
   "source": [
    "import time"
   ]
  },
  {
   "cell_type": "code",
   "execution_count": 10,
   "metadata": {},
   "outputs": [],
   "source": [
    "# Defining a matrix that shows the calculating time difference between the 2 methods\n",
    "def time_comp(size_M):\n",
    "    M_range = np.arange(1, size_M, 50)\n",
    "    M = np.zeros([len(M_range), len(M_range)])\n",
    "    for i, n in enumerate(M_range): # enumerate enables to take all the values of another vector \n",
    "        for j, p in enumerate(M_range): \n",
    "           \n",
    "            X = np.random.normal(0, np.sqrt(5), size=(n,p))\n",
    "            y = np.random.uniform(-1, 1, n)\n",
    "            \n",
    "            t0 = time.time()\n",
    "            left_function(X,y)\n",
    "            t1 = time.time() - t0\n",
    "            \n",
    "            t0_1 = time.time()\n",
    "            right_function(X,y)\n",
    "            t2 = time.time() - t0_1\n",
    "            \n",
    "            M[i, j] = t2 / t1\n",
    "    return M"
   ]
  },
  {
   "cell_type": "code",
   "execution_count": 11,
   "metadata": {},
   "outputs": [
    {
     "name": "stdout",
     "output_type": "stream",
     "text": [
      "|p/n ratio 1.0 |Matrix index (0, 0) |(n,p) values (1, 1)\n",
      "|p/n ratio 51.0 |Matrix index (0, 1) |(n,p) values (1, 51)\n",
      "|p/n ratio 101.0 |Matrix index (0, 2) |(n,p) values (1, 101)\n",
      "|p/n ratio 151.0 |Matrix index (0, 3) |(n,p) values (1, 151)\n",
      "|p/n ratio 0.0 |Matrix index (1, 0) |(n,p) values (51, 1)\n",
      "|p/n ratio 1.0 |Matrix index (1, 1) |(n,p) values (51, 51)\n",
      "|p/n ratio 2.0 |Matrix index (1, 2) |(n,p) values (51, 101)\n",
      "|p/n ratio 3.0 |Matrix index (1, 3) |(n,p) values (51, 151)\n",
      "|p/n ratio 0.0 |Matrix index (2, 0) |(n,p) values (101, 1)\n",
      "|p/n ratio 0.5 |Matrix index (2, 1) |(n,p) values (101, 51)\n",
      "|p/n ratio 1.0 |Matrix index (2, 2) |(n,p) values (101, 101)\n",
      "|p/n ratio 1.5 |Matrix index (2, 3) |(n,p) values (101, 151)\n",
      "|p/n ratio 0.0 |Matrix index (3, 0) |(n,p) values (151, 1)\n",
      "|p/n ratio 0.3 |Matrix index (3, 1) |(n,p) values (151, 51)\n",
      "|p/n ratio 0.7 |Matrix index (3, 2) |(n,p) values (151, 101)\n",
      "|p/n ratio 1.0 |Matrix index (3, 3) |(n,p) values (151, 151)\n"
     ]
    }
   ],
   "source": [
    "# Just checking the indices we are using in our matrix here to make sure we understand the graph\n",
    "for i, n in enumerate(np.arange(1, 200, 50)): # enumerate enables to take all the values of another vector \n",
    "        for j, p in enumerate(np.arange(1, 200, 50)):\n",
    "            print(\"|p/n ratio\",round((p/n),1),\"|Matrix index\",(i,j),\"|(n,p) values\",(n,p))"
   ]
  },
  {
   "cell_type": "code",
   "execution_count": 12,
   "metadata": {},
   "outputs": [
    {
     "name": "stdout",
     "output_type": "stream",
     "text": [
      "AxesSubplot(0.125,0.11;0.62x0.77)\n"
     ]
    }
   ],
   "source": [
    "# Plotting a heatmap to visualize time difference between the 2 sides of the equation\n",
    "import seaborn \n",
    "time_heatmap = time_comp(200)\n",
    "print(seaborn.heatmap((time_heatmap)))"
   ]
  },
  {
   "cell_type": "code",
   "execution_count": 13,
   "metadata": {},
   "outputs": [
    {
     "name": "stdout",
     "output_type": "stream",
     "text": [
      "0.1\n",
      "18.3\n"
     ]
    }
   ],
   "source": [
    "# Printing the matrix indices for one example\n",
    "print(round(time_heatmap[3,0],1)) # corresponds to a p/n ratio of 1/151\n",
    "print(round(time_heatmap[0,3],1)) # corresponds to a p/n ratio of 151"
   ]
  },
  {
   "cell_type": "markdown",
   "metadata": {},
   "source": [
    "Our graph shows us how long it takes to plot the right side of the equation relatively to the left one for values of n and p ranging in [1, 51, 101, 151]. \n",
    "We see that when p is bigger than n, it becomes inefficient to compute the RHS of the equation relatively to the LHS (upper region of our matrix).  "
   ]
  },
  {
   "cell_type": "markdown",
   "metadata": {},
   "source": [
    "Intuitively this is logical. We want to minimise the number of computations incurred by python to compute the L- or RHS.  \n",
    "In particular, when p is bigger than n, we are manipulating bigger matrices on the RHS :   \n",
    "- np.linsolve has to solve more equations to return an answer.   \n",
    "- In the same way, the dot product takes more time.   \n",
    "\n",
    "So, it is not surprising that the quickest side to compute is the one with the smaller matrices.  "
   ]
  },
  {
   "cell_type": "markdown",
   "metadata": {},
   "source": [
    "# Exercise 2 - Random matrix spectrum"
   ]
  },
  {
   "cell_type": "markdown",
   "metadata": {},
   "source": [
    "### Question 3"
   ]
  },
  {
   "cell_type": "markdown",
   "metadata": {},
   "source": [
    "#### Methodology in choosing parameters: \n",
    "\n",
    "In all cases, if X is a random variable and that its expectation exists, X - E(X) is centered\n",
    "- If X is binomial, V(X) = (1-p)/p^2 : if I choose p = 0.5, we have V(X) = 2  \n",
    "- If X follows a Poisson law of parameter lambda , V(X) = lambda : I choose lambda = 2  \n",
    "- If X follows a continuous uniform law on [a,b], E(X) = (a+b)/2 and V(X) = (b-a)^2/12  \n",
    "I choose a = -b (b>0) to have E(X) = 0 and we want 4*(a^2) /12 = 2 -> a = sqrt(6)  "
   ]
  },
  {
   "cell_type": "code",
   "execution_count": 14,
   "metadata": {},
   "outputs": [],
   "source": [
    "def X_generator(n,p,probalaw):\n",
    "    if probalaw == 'binomial':\n",
    "        M = np.random.binomial(8,1/2, size = (n,p)) - 4 # -4 to have a mean of 0, -4 to all numbers of the matrix\n",
    "    elif probalaw == 'poisson':\n",
    "        M = np.random.poisson(2, size = (n,p))-2\n",
    "    elif probalaw == 'uniform':\n",
    "        M = np.random.uniform(-np.sqrt(6), np.sqrt(6), size = (n,p))\n",
    "    return(M)    "
   ]
  },
  {
   "cell_type": "code",
   "execution_count": 15,
   "metadata": {},
   "outputs": [
    {
     "name": "stdout",
     "output_type": "stream",
     "text": [
      "-0.0\n",
      "1.99\n",
      "-0.01\n",
      "2.0\n",
      "-0.01\n",
      "2.0\n"
     ]
    }
   ],
   "source": [
    "# Checking X_generator for (n,p) = (100,200)\n",
    "\n",
    "print(round(X_generator(100,200,'binomial').mean(),2))\n",
    "print(round(X_generator(100,200,'binomial').var(),2))\n",
    "print(round(X_generator(100,200,'poisson').mean(),2))\n",
    "print(round(X_generator(100,200,'poisson').var(),2))\n",
    "print(round(X_generator(100,200,'uniform').mean(),2))\n",
    "print(round(X_generator(100,200,'uniform').var(),2))"
   ]
  },
  {
   "cell_type": "markdown",
   "metadata": {},
   "source": [
    "### Question 4"
   ]
  },
  {
   "cell_type": "code",
   "execution_count": 16,
   "metadata": {},
   "outputs": [
    {
     "data": {
      "image/png": "[encoded data removed]",
      "text/plain": [
       "<Figure size 432x288 with 1 Axes>"
      ]
     },
     "metadata": {
      "needs_background": "light"
     },
     "output_type": "display_data"
    }
   ],
   "source": [
    "# Plotting the eigenvalues of X for each value of p and n = 1000\n",
    "%matplotlib inline\n",
    "import matplotlib.pyplot as plt\n",
    "p_range = [200,500,1000,2000]\n",
    "names = ['binomial','poisson','uniform']\n",
    "n = 1000\n",
    "for probalaw in names : \n",
    "    for p in p_range : \n",
    "        X = X_generator(n,p,probalaw)\n",
    "        (u,eigvals,v) = np.linalg.svd(X)\n",
    "        plt.plot(eigvals)"
   ]
  },
  {
   "cell_type": "markdown",
   "metadata": {},
   "source": [
    "We are plotting 12 curves and only get 4.\n",
    "This means that for each value of p, the singular values of our matrices are the same even though they do not follow the same law!"
   ]
  },
  {
   "cell_type": "markdown",
   "metadata": {},
   "source": [
    "### Question 5"
   ]
  },
  {
   "cell_type": "code",
   "execution_count": 17,
   "metadata": {},
   "outputs": [
    {
     "data": {
      "image/png": "[encoded data removed]",
      "text/plain": [
       "<Figure size 432x288 with 1 Axes>"
      ]
     },
     "metadata": {
      "needs_background": "light"
     },
     "output_type": "display_data"
    }
   ],
   "source": [
    "# Our new goal is to plot the spectrum of X.T@X/n\n",
    "# We indicate that X.T@X is hermitian so that python doesn't compute complex values\n",
    "p_range = [200,500,1000,2000]\n",
    "names = ['binomial','poisson','uniform']\n",
    "n = 1000\n",
    "for probalaw in names : \n",
    "    for p in p_range : \n",
    "        X = X_generator(n,p,probalaw)\n",
    "        eig = np.linalg.eigvalsh(X.T @ X / n)[::-1] #[::-1] allows to switch the axes of the graph\n",
    "        plt.plot(eig)"
   ]
  },
  {
   "cell_type": "markdown",
   "metadata": {},
   "source": [
    "As we saw earlier, we are plotting 12 curves and only get 4.\n",
    "This means that for each value of p, the eigenvalues of our X.T@X/n are the same even though the Xes do not follow the same law!"
   ]
  },
  {
   "cell_type": "markdown",
   "metadata": {},
   "source": [
    "# Exercise 3 - Power method"
   ]
  },
  {
   "cell_type": "markdown",
   "metadata": {},
   "source": [
    "### Question 6"
   ]
  },
  {
   "cell_type": "code",
   "execution_count": 18,
   "metadata": {},
   "outputs": [],
   "source": [
    "# Defining our (random) matrix X and its size\n",
    "(n,p) = (100,2000)\n",
    "X = np.random.normal(0, np.sqrt(5), size = (n,p))"
   ]
  },
  {
   "cell_type": "code",
   "execution_count": 19,
   "metadata": {},
   "outputs": [],
   "source": [
    "# Defining the power method function\n",
    "def power_method(X, max_iter, u, v):\n",
    "    all_u = np.zeros([max_iter, u.shape[0]])\n",
    "    all_v = np.zeros([max_iter, v.shape[0]])\n",
    "    for i in range(max_iter) : \n",
    "        u = X@v\n",
    "        v = X.T@u\n",
    "        u = u / np.linalg.norm(u)\n",
    "        all_u[i, :] = u\n",
    "        v = v / np.linalg.norm(v)\n",
    "        all_v[i, :] = v\n",
    "    return (all_u, all_v, u, v)"
   ]
  },
  {
   "cell_type": "markdown",
   "metadata": {},
   "source": [
    "(Note that u is directly overwritten as X@v in the function. Thus, introducing a new u does not change anything)"
   ]
  },
  {
   "cell_type": "code",
   "execution_count": 20,
   "metadata": {},
   "outputs": [],
   "source": [
    "# Testing that our function actually returns something\n",
    "(all_u, all_v, u_converge, v_converge) = power_method(X, 1000, np.random.uniform(-1, 1, size = (n)), np.random.uniform(-1, 1, size = (p)))"
   ]
  },
  {
   "cell_type": "markdown",
   "metadata": {},
   "source": [
    "### Question 7"
   ]
  },
  {
   "cell_type": "code",
   "execution_count": 21,
   "metadata": {},
   "outputs": [
    {
     "data": {
      "text/plain": [
       "Text(0.5, 1.0, 'v convergence')"
      ]
     },
     "execution_count": 21,
     "metadata": {},
     "output_type": "execute_result"
    },
    {
     "data": {
      "image/png": "[encoded data removed]",
      "text/plain": [
       "<Figure size 432x288 with 1 Axes>"
      ]
     },
     "metadata": {
      "needs_background": "light"
     },
     "output_type": "display_data"
    },
    {
     "data": {
      "image/png": "[encoded data removed]",
      "text/plain": [
       "<Figure size 432x288 with 1 Axes>"
      ]
     },
     "metadata": {
      "needs_background": "light"
     },
     "output_type": "display_data"
    }
   ],
   "source": [
    "(u,v) = (np.ones(n), np.ones(p))\n",
    "(all_u, all_v, u_converge, v_converge) = power_method(X, 1000, u, v)\n",
    "\n",
    "# Substracting the last vector (supposedly the closest to convergence) from my matrix, u_converge\n",
    "# On this graph, we are looking at the distance (the norm) between each u[i] and u_converge, \n",
    "# the output of our algorithm. We see that this distance converges to zero for n = approx 1000.\n",
    "# Using the logarithmic function to \"see the convergence\" from closer\n",
    "from numpy.linalg import norm\n",
    "\n",
    "fig = plt.figure(1)\n",
    "plt.semilogy(norm(all_u - u_converge, axis=1))\n",
    "plt.title(\"u convergence\")\n",
    "\n",
    "fig = plt.figure(2)\n",
    "plt.semilogy(norm(all_v - v_converge, axis=1))\n",
    "plt.title(\"v convergence\")"
   ]
  },
  {
   "cell_type": "code",
   "execution_count": 22,
   "metadata": {},
   "outputs": [
    {
     "data": {
      "text/plain": [
       "True"
      ]
     },
     "execution_count": 22,
     "metadata": {},
     "output_type": "execute_result"
    }
   ],
   "source": [
    "# Showing that (u,v) converges to the largest singular vector associated with the largest singular value of X\n",
    "# Note that the max eigenvalue is necessarily positive, otherwise X is null as all its eigenvalues are non negative\n",
    "(u, singvals_X, vh) = np.linalg.svd(X)\n",
    "max_singval = max(singvals_X)\n",
    "np.allclose(u_converge.T@X@v_converge/max_singval, 1)"
   ]
  },
  {
   "cell_type": "markdown",
   "metadata": {},
   "source": [
    "#### Bonus : Mathematical explanation of the result\n",
    "\n",
    "\n",
    "1. $(u_n, v_n)$ are actually sequences that can be defined as follows :  \n",
    "Let $(u_k,v_k)$ be the kth output of u and v calculated in the power method  \n",
    "for k in [0, max_iter] : \n",
    "$$u(k+1) = (X @ X.T) * u(k) * norm(u(k+1) = B @ u_k$$ if we denote B = X @ X.T and except the normalisation factor\n",
    "$$v(k+1) = (X.T @ X) * v(k) * norm(v(k+1) = A @ v_k $$ if we denote A = X.T@X and except the normalisation factor"
   ]
  },
  {
   "cell_type": "markdown",
   "metadata": {},
   "source": [
    "2. A is symmetric, so A is diagonalisable and there exists B an orthonormal basis of $R^p$ consisting of A's eigenvectors. Let us note that the singular values of X are the roots of the eigenvalues of A.   \n",
    "i) We have : for all n in N, $v_{n} = A^n @ v_0$  (excluding the normalisation for now).  \n",
    "ii) As A is diagonalisable, we can rewrite $v_0$ as a combination of the eigenvectors associated to A in descending order.  \n",
    " $$\\sum_{k=1}^{p} \\beta_k*c_k = v_0$$ where the cks form an orthonormal basis of Rp. Note that $c_1$ is associated to $\\Lambda_{max}$.  \n",
    "iii) Given i), we then obtain : \n",
    " $$\\sum_{k=1}^{p} \\beta_k * c_k * \\Lambda_k^n = v_n$$\n",
    "By factorising by $\\beta_1 * \\Lambda_{max}^n$, as $\\Lambda_i < \\Lambda_{max}$ for any i in p, we get that $v_n$ is equivalent to $\\Lambda_{max}^n * c_1 * \\beta_1$.  \n",
    "iv) Now we are going to consider the normalisation factor.  \n",
    "$$ norm(v_n)= norm(A^n*v0)=\\sqrt{(\\sum_{k=1}^{p} \\beta_k^2 * c_k * \\Lambda_k^{2n})}$$.  \n",
    "If we factorise this by $\\beta_1*\\Lambda_{max}^{(n)}$, we obtain that the norm in question is equivalent to $\\beta_1*\\Lambda_{max}^{(n)}$ because the other term in the product converges to 1. Indeed, recall that $\\Lambda_i < \\Lambda_{max}$ for any i in p.\n",
    "v) So, we have shown that $v_n/norm(v_n)$ converges to $c_1$ which is the eigenvector associated to the biggest eigenvalue of A. As X's eigenvalues are the roots of A's, by doing the same reasoning on $u_n$ using the matrix B, we get that $(u_n, v_n)$ converges to the eigenvectors associated to X's maximum singular value. \n",
    "\n",
    "Indeed, we have the following relation... \n",
    "If we define (U,V) in $M_p(R)$ and $M_n(R)$ respectively such that $ X = U * D_r * V.T$ (singular value decomposition), where $D_r$ is a diagonal matrix with the r distinct singular values of X ordered in descending order on its diagonal and 0's elsewhere.  \n",
    "Then,  $X.T*X = U * D_r^2 * U.T$ and  $X*X.T = VD_r^2V.T$"
   ]
  },
  {
   "cell_type": "markdown",
   "metadata": {},
   "source": [
    "### Question 8"
   ]
  },
  {
   "cell_type": "code",
   "execution_count": 23,
   "metadata": {},
   "outputs": [],
   "source": [
    "# Providing two sets leading to different eigenvectors : there is a sign ambiguity\n",
    "(u1, v1) = (np.ones(n), np.ones(p))\n",
    "(u2, v2) = (-u1,-v1)\n",
    "max_iter = 1000"
   ]
  },
  {
   "cell_type": "code",
   "execution_count": 24,
   "metadata": {},
   "outputs": [
    {
     "data": {
      "text/plain": [
       "(2.0, 2.0)"
      ]
     },
     "execution_count": 24,
     "metadata": {},
     "output_type": "execute_result"
    }
   ],
   "source": [
    "# Showing that these two sets converge to different (u_converge, v_converge)\n",
    "(all_u1, all_v1, u_converge_1, v_converge_1) = power_method(X, max_iter, u1, v1)\n",
    "(all_u2, all_v2, u_converge_2, v_converge_2) = power_method(X, max_iter, u2, v2)\n",
    "\n",
    "# If at convergence, we have the same vectors, then the computations I am going to make should \n",
    "# render a null vector of dimension 1,2 (modulo computation approximations)\n",
    "((np.linalg.norm(u_converge_1 - u_converge_2)),np.linalg.norm(v_converge_1 - v_converge_2))"
   ]
  },
  {
   "cell_type": "markdown",
   "metadata": {},
   "source": [
    "For the initial vector X: \n",
    "Due to the construction of the algorithm and in particular to the normalization process, the only possibles outcomes for u_converge and v_converge (u_converge, v_converge) and (-u_converge, -v_converge)\n",
    "\n",
    "So, our two initial sets of vectors converged to two different pairs. \n",
    "Both the pairs (u1,v1) and (-u1,-v1) have the same sign. So -u1.T@X@(-v1) = (u1.T@X@v1) by looking at the sign "
   ]
  },
  {
   "cell_type": "markdown",
   "metadata": {},
   "source": [
    "### Question 9"
   ]
  },
  {
   "cell_type": "code",
   "execution_count": 25,
   "metadata": {},
   "outputs": [
    {
     "name": "stdout",
     "output_type": "stream",
     "text": [
      "Test is True\n"
     ]
    }
   ],
   "source": [
    "# We know that (u,v) converges to the eigenvector associated to X's largest maximum value\n",
    "# We set lambda to be u.T@X@v : we are approximating X's largest singular value\n",
    "lambda_test = u_converge_1.T@X@v_converge_1\n",
    "\n",
    "# For additional reassurance, we can test using np's built in function that we indeed have X's largest singular value\n",
    "(u, singvals_X, vh) = np.linalg.svd(X)\n",
    "print('Test is', np.allclose(max(singvals_X),lambda_test))\n",
    "# If the test returns True, we have confirmation that lambda_test is the maximal singular value of X"
   ]
  },
  {
   "cell_type": "code",
   "execution_count": 26,
   "metadata": {},
   "outputs": [
    {
     "name": "stdout",
     "output_type": "stream",
     "text": [
      "the (estimated) largest singular value of X is: 121.01025486520001\n",
      "the (true) largest singular value of X is: 121.01025521573328\n"
     ]
    }
   ],
   "source": [
    "# Displaying lambda max for better visualisation: \n",
    "eig = np.linalg.eigvalsh(X.T@X)\n",
    "print('the (estimated) largest singular value of X is:', lambda_test)\n",
    "print('the (true) largest singular value of X is:', np.sqrt(max(eig)))"
   ]
  },
  {
   "cell_type": "markdown",
   "metadata": {},
   "source": [
    "### Question 10 - Bonus : approximate the second largest singular value of X"
   ]
  },
  {
   "cell_type": "code",
   "execution_count": 27,
   "metadata": {},
   "outputs": [],
   "source": [
    "# Initialising M = X - lambda_max*orthogonal_to_v_converge\n",
    "lambda_max = lambda_test\n",
    "M = X - lambda_max * np.matrix(u_converge_1).T @ np.matrix(v_converge_1)\n",
    "M = np.array(M)"
   ]
  },
  {
   "cell_type": "code",
   "execution_count": 28,
   "metadata": {
    "scrolled": true
   },
   "outputs": [],
   "source": [
    "# Running the power method for our newly defined M\n",
    "all_uM, all_vM, u_convergeM, v_convergeM = power_method(M, 1000, u1, v1)\n",
    "lambda_test2 = np.sqrt(np.linalg.norm(M.T @ M @ v_convergeM.T))"
   ]
  },
  {
   "cell_type": "code",
   "execution_count": 29,
   "metadata": {},
   "outputs": [
    {
     "name": "stdout",
     "output_type": "stream",
     "text": [
      "Test is True\n"
     ]
    }
   ],
   "source": [
    "print('Test is', np.allclose(np.sqrt(eig[1999-1]),lambda_test2))\n",
    "# If the test returns True, we have confirmation that lambda_test2 is the second maximal singular value of X"
   ]
  },
  {
   "cell_type": "code",
   "execution_count": 30,
   "metadata": {},
   "outputs": [
    {
     "name": "stdout",
     "output_type": "stream",
     "text": [
      "the second (estimated) largest singular value of X is: 120.58940138813524\n",
      "the second largest singular of X is: 120.58940103637869\n"
     ]
    }
   ],
   "source": [
    "# Displaying the second lambda max for better visualisation:\n",
    "print('the second (estimated) largest singular value of X is:', lambda_test2)\n",
    "print('the second largest singular of X is:', np.sqrt(eig[1999-1]))"
   ]
  },
  {
   "cell_type": "markdown",
   "metadata": {},
   "source": [
    "# Exercise 4 - PCA"
   ]
  },
  {
   "cell_type": "markdown",
   "metadata": {},
   "source": [
    "### Question 11"
   ]
  },
  {
   "cell_type": "code",
   "execution_count": 31,
   "metadata": {},
   "outputs": [],
   "source": [
    "from os import path\n",
    "import pandas as pd"
   ]
  },
  {
   "cell_type": "code",
   "execution_count": 32,
   "metadata": {},
   "outputs": [],
   "source": [
    "# Importing the data \n",
    "# sep = ';' seperates the data in columns every time there is ;\n",
    "url = 'http://josephsalmon.eu/enseignement/TELECOM/SD204/defra_consumption.csv'\n",
    "df = pd.read_csv(url, sep = ';', index_col = 'Unnamed: 0')"
   ]
  },
  {
   "cell_type": "code",
   "execution_count": 33,
   "metadata": {
    "scrolled": true
   },
   "outputs": [
    {
     "data": {
      "text/html": [
       "<div>\n",
       "<style scoped>\n",
       "    .dataframe tbody tr th:only-of-type {\n",
       "        vertical-align: middle;\n",
       "    }\n",
       "\n",
       "    .dataframe tbody tr th {\n",
       "        vertical-align: top;\n",
       "    }\n",
       "\n",
       "    .dataframe thead th {\n",
       "        text-align: right;\n",
       "    }\n",
       "</style>\n",
       "<table border=\"1\" class=\"dataframe\">\n",
       "  <thead>\n",
       "    <tr style=\"text-align: right;\">\n",
       "      <th></th>\n",
       "      <th>England</th>\n",
       "      <th>Wales</th>\n",
       "      <th>Scotland</th>\n",
       "      <th>N Ireland</th>\n",
       "    </tr>\n",
       "  </thead>\n",
       "  <tbody>\n",
       "    <tr>\n",
       "      <th>Cheese</th>\n",
       "      <td>105</td>\n",
       "      <td>103</td>\n",
       "      <td>103</td>\n",
       "      <td>66</td>\n",
       "    </tr>\n",
       "    <tr>\n",
       "      <th>Carcass meat</th>\n",
       "      <td>245</td>\n",
       "      <td>227</td>\n",
       "      <td>242</td>\n",
       "      <td>267</td>\n",
       "    </tr>\n",
       "    <tr>\n",
       "      <th>Other meat</th>\n",
       "      <td>685</td>\n",
       "      <td>803</td>\n",
       "      <td>750</td>\n",
       "      <td>586</td>\n",
       "    </tr>\n",
       "    <tr>\n",
       "      <th>Fish</th>\n",
       "      <td>147</td>\n",
       "      <td>160</td>\n",
       "      <td>122</td>\n",
       "      <td>93</td>\n",
       "    </tr>\n",
       "    <tr>\n",
       "      <th>Fats and oils</th>\n",
       "      <td>193</td>\n",
       "      <td>235</td>\n",
       "      <td>184</td>\n",
       "      <td>209</td>\n",
       "    </tr>\n",
       "  </tbody>\n",
       "</table>\n",
       "</div>"
      ],
      "text/plain": [
       "               England  Wales  Scotland  N Ireland\n",
       "Cheese             105    103       103         66\n",
       "Carcass meat       245    227       242        267\n",
       "Other meat         685    803       750        586\n",
       "Fish               147    160       122         93\n",
       "Fats and oils      193    235       184        209"
      ]
     },
     "execution_count": 33,
     "metadata": {},
     "output_type": "execute_result"
    }
   ],
   "source": [
    "df.head()"
   ]
  },
  {
   "cell_type": "markdown",
   "metadata": {},
   "source": [
    "### Question 12"
   ]
  },
  {
   "cell_type": "code",
   "execution_count": 34,
   "metadata": {},
   "outputs": [],
   "source": [
    "# Transforming the data into a matrix (not always necessary)\n",
    "data_to_process = df.loc[:,'England': 'N Ireland']"
   ]
  },
  {
   "cell_type": "code",
   "execution_count": 35,
   "metadata": {},
   "outputs": [],
   "source": [
    "import sklearn \n",
    "from sklearn import preprocessing"
   ]
  },
  {
   "cell_type": "code",
   "execution_count": 36,
   "metadata": {},
   "outputs": [
    {
     "name": "stdout",
     "output_type": "stream",
     "text": [
      "[ 0. -0. -0.  0.]\n",
      "[1. 1. 1. 1.]\n"
     ]
    }
   ],
   "source": [
    "# Considering that the variables are the items, and the observations \n",
    "from sklearn import preprocessing\n",
    "X = preprocessing.scale(data_to_process, axis = 0)\n",
    "\n",
    "# Checking that the data is scaled\n",
    "print(np.round(X.mean(axis=0),2))\n",
    "print(X.var(axis=0))"
   ]
  },
  {
   "cell_type": "markdown",
   "metadata": {},
   "source": [
    "### Question 13"
   ]
  },
  {
   "cell_type": "code",
   "execution_count": 37,
   "metadata": {},
   "outputs": [
    {
     "data": {
      "text/plain": [
       "<matplotlib.collections.PathCollection at 0x11a4c6f98>"
      ]
     },
     "execution_count": 37,
     "metadata": {},
     "output_type": "execute_result"
    },
    {
     "data": {
      "image/png": "[encoded data removed]",
      "text/plain": [
       "<Figure size 432x288 with 1 Axes>"
      ]
     },
     "metadata": {
      "needs_background": "light"
     },
     "output_type": "display_data"
    }
   ],
   "source": [
    "# Getting the principal components of X for n = 2. \n",
    "from sklearn.decomposition import PCA \n",
    "pca = PCA(n_components = 2)\n",
    "pca.fit(X)\n",
    "\n",
    "# Applying the dimensionality reduction on X. X_pca contains the coordinates of each data \n",
    "# in the space generated by the principal components. \n",
    "X_pca = pca.transform(X)\n",
    "\n",
    "# Then plotting the projection of X in 2D.\n",
    "import matplotlib.pyplot as plt\n",
    "plt.scatter(X_pca[:,0], X_pca[:,1])"
   ]
  },
  {
   "cell_type": "markdown",
   "metadata": {},
   "source": [
    "### Question 14"
   ]
  },
  {
   "cell_type": "code",
   "execution_count": 38,
   "metadata": {},
   "outputs": [],
   "source": [
    "# Repeat the previous question for the space generated by three axes -> we want a 3D graph\n",
    "# We perform the PCA for 3 vectors \n",
    "pca_1 = PCA(n_components = 3) # new dimension\n",
    "pca_1.fit(X)\n",
    "X_pca_1 = pca_1.fit_transform(X)"
   ]
  },
  {
   "cell_type": "code",
   "execution_count": 39,
   "metadata": {},
   "outputs": [
    {
     "data": {
      "image/png": "[encoded data removed]",
      "text/plain": [
       "<Figure size 432x288 with 1 Axes>"
      ]
     },
     "metadata": {
      "needs_background": "light"
     },
     "output_type": "display_data"
    }
   ],
   "source": [
    "# Print the graph in 3D\n",
    "\n",
    "from mpl_toolkits.mplot3d import Axes3D\n",
    "\n",
    "fig = plt.figure()\n",
    "ax = fig.add_subplot(111, projection='3d')\n",
    "\n",
    "x = X_pca_1[:,0]\n",
    "y = X_pca_1[:,1]\n",
    "z = X_pca_1[:,2]\n",
    "\n",
    "ax.scatter(x, y, z, c = 'r', marker = 'o')\n",
    "\n",
    "ax.set_xlabel('Principal component 1')\n",
    "ax.set_ylabel('Principal component 2')\n",
    "ax.set_zlabel('Principal component 3')\n",
    "\n",
    "plt.show()"
   ]
  },
  {
   "cell_type": "markdown",
   "metadata": {},
   "source": [
    "### Question 15"
   ]
  },
  {
   "cell_type": "markdown",
   "metadata": {},
   "source": [
    "### a. Diagonalization of X.T @ X"
   ]
  },
  {
   "cell_type": "code",
   "execution_count": 40,
   "metadata": {},
   "outputs": [
    {
     "data": {
      "text/plain": [
       "array([[66.00910989,  0.        ,  0.        ,  0.        ],\n",
       "       [ 0.        ,  1.3130295 ,  0.        ,  0.        ],\n",
       "       [ 0.        ,  0.        ,  0.61117233,  0.        ],\n",
       "       [ 0.        ,  0.        ,  0.        ,  0.06668829]])"
      ]
     },
     "execution_count": 40,
     "metadata": {},
     "output_type": "execute_result"
    }
   ],
   "source": [
    "#Diagonalising X.T@X, without forgetting to specify it is Hermitian\n",
    "A = X.T @ X\n",
    "(A_eigvals, A_eigvects) = np.linalg.eigh(A)\n",
    "\n",
    "# The eigenvalues and corresponding eigenvectors are sorted in ascending order by default\n",
    "A_eigvals = A_eigvals[::-1]\n",
    "A_eigvects = np.flip(A_eigvects, axis = 1)\n",
    "\n",
    "# Finally getting the diagonal matrix\n",
    "A_diag = np.diag(A_eigvals)\n",
    "A_diag"
   ]
  },
  {
   "cell_type": "markdown",
   "metadata": {},
   "source": [
    "###### Project the n points encoded by X over the span of the eigenvectors associated to the two (respectively three) largest eigenvalues."
   ]
  },
  {
   "cell_type": "code",
   "execution_count": 41,
   "metadata": {},
   "outputs": [],
   "source": [
    "# Projection on a 2D space spanned by the two eigenvectors of A associated to the largest and second largest eigenvalues\n",
    "# We recall that projection of a on b is (<a,b>/||a||^2)*b. We know that v1 and v2 are already normalised.\n",
    "# So, to get the projection coordinates, we do the matrice product\n",
    "projection_coordinates2D = X @ A_eigvects[:,:2]\n",
    "\n",
    "# Getting the projection coordinates for our 3D space. The eigenvectors are still normalised \n",
    "projection_coordinates3D = X @ A_eigvects[:,:3]"
   ]
  },
  {
   "cell_type": "code",
   "execution_count": 42,
   "metadata": {},
   "outputs": [],
   "source": [
    "from mpl_toolkits.mplot3d import Axes3D\n",
    "import matplotlib.pyplot as plt"
   ]
  },
  {
   "cell_type": "code",
   "execution_count": 43,
   "metadata": {},
   "outputs": [
    {
     "data": {
      "image/png": "[encoded data removed]",
      "text/plain": [
       "<Figure size 432x288 with 1 Axes>"
      ]
     },
     "metadata": {
      "needs_background": "light"
     },
     "output_type": "display_data"
    },
    {
     "data": {
      "image/png": "[encoded data removed]",
      "text/plain": [
       "<Figure size 432x288 with 1 Axes>"
      ]
     },
     "metadata": {
      "needs_background": "light"
     },
     "output_type": "display_data"
    }
   ],
   "source": [
    "# For a reason similar to q8, our projections are exactly the opposite of those obtained through the PCA method. \n",
    "\n",
    "fig = plt.figure(1)\n",
    "plt.scatter(projection_coordinates2D[:,0], projection_coordinates2D[:,1])\n",
    "plt.title('2D projection')\n",
    "\n",
    "fig = plt.figure(2)\n",
    "ax = fig.add_subplot(111, projection='3d')\n",
    "ax.scatter(projection_coordinates3D[:, 0], projection_coordinates3D[:, 1],projection_coordinates3D[:, 2], c='r', marker='o')\n",
    "ax.set_xlabel('1st component')\n",
    "ax.set_ylabel('2nd component')\n",
    "ax.set_zlabel('3rd component')\n",
    "plt.title('3D projection')\n",
    "plt.show()"
   ]
  },
  {
   "cell_type": "markdown",
   "metadata": {},
   "source": [
    "### b. SVD - Projected on the right vectors"
   ]
  },
  {
   "cell_type": "code",
   "execution_count": 44,
   "metadata": {},
   "outputs": [],
   "source": [
    "# Compute the SVD of X. \n",
    "# Project the n points encoded by X over the span of the RIGHT singular vectors associated to the two \n",
    "# (respectively three) largest singular values"
   ]
  },
  {
   "cell_type": "code",
   "execution_count": 45,
   "metadata": {},
   "outputs": [
    {
     "data": {
      "text/plain": [
       "array([8.12459906, 1.14587499, 0.78177512, 0.25824075])"
      ]
     },
     "execution_count": 45,
     "metadata": {},
     "output_type": "execute_result"
    }
   ],
   "source": [
    "(X_left, X_singvals, X_right) = np.linalg.svd(X, full_matrices=False)\n",
    "X_singvals # they are classified in the decreasing order and after ther"
   ]
  },
  {
   "cell_type": "code",
   "execution_count": 46,
   "metadata": {},
   "outputs": [],
   "source": [
    "# Performing SVD on X NB : PROJECTED ON THE RIGHT VECTORS\n",
    "(left_vectors, sigma, right_vectors) = np.linalg.svd(X, full_matrices=False)\n",
    "\n",
    "# 2D projection on the right vectors because it doesn't make sense to do it on the left vectors.\n",
    "projection_coord_svd = X@right_vectors[:,:2]\n",
    "\n",
    "# 3D projection on the right vectors because it doesn't make sense to do it on the left vectors.\n",
    "projection_coord_svd3D = X@right_vectors[:,:3]"
   ]
  },
  {
   "cell_type": "code",
   "execution_count": 47,
   "metadata": {},
   "outputs": [
    {
     "data": {
      "text/plain": [
       "True"
      ]
     },
     "execution_count": 47,
     "metadata": {},
     "output_type": "execute_result"
    }
   ],
   "source": [
    "# Verifying that X_right is orthonormal\n",
    "np.allclose(np.eye(4), X_right.T @ X_right)"
   ]
  },
  {
   "cell_type": "code",
   "execution_count": 48,
   "metadata": {},
   "outputs": [
    {
     "data": {
      "image/png": "[encoded data removed]",
      "text/plain": [
       "<Figure size 432x288 with 1 Axes>"
      ]
     },
     "metadata": {
      "needs_background": "light"
     },
     "output_type": "display_data"
    },
    {
     "data": {
      "image/png": "[encoded data removed]",
      "text/plain": [
       "<Figure size 432x288 with 1 Axes>"
      ]
     },
     "metadata": {
      "needs_background": "light"
     },
     "output_type": "display_data"
    }
   ],
   "source": [
    "# We plot the graph in 2D\n",
    "\n",
    "fig = plt.figure(1)\n",
    "plt.scatter(projection_coord_svd[:,0], projection_coord_svd[:,1])\n",
    "plt.title('3D projection using SVD')\n",
    "\n",
    "# We plot the graph in 3D\n",
    "\n",
    "fig = plt.figure(2)\n",
    "ax = fig.add_subplot(111, projection='3d')\n",
    "ax.scatter(projection_coord_svd3D[:, 0], projection_coord_svd3D[:, 1],projection_coord_svd3D[:, 2], c='r', marker='o')\n",
    "ax.set_xlabel('Principal component 1')\n",
    "ax.set_ylabel('Principal component 2')\n",
    "ax.set_zlabel('Principal component 3')\n",
    "plt.title('3D projection using SVD')\n",
    "\n",
    "plt.show()"
   ]
  },
  {
   "cell_type": "markdown",
   "metadata": {},
   "source": [
    "### c. Evaluate the difference in timing for the two methods"
   ]
  },
  {
   "cell_type": "code",
   "execution_count": 49,
   "metadata": {},
   "outputs": [],
   "source": [
    "# we set a time before the beginning of the first and after the end, same for the second and we compare B"
   ]
  },
  {
   "cell_type": "code",
   "execution_count": 50,
   "metadata": {},
   "outputs": [],
   "source": [
    "# Diagonalising method 2D\n",
    "t0 = time.time()\n",
    "A = X.T @ X\n",
    "(A_eigvals, A_eigvects) = np.linalg.eigh(A)\n",
    "A_eigvects = np.flip(A_eigvects, axis = 1)\n",
    "projection_coordinates = X @ A_eigvects[:,:2]\n",
    "t1 = time.time() - t0\n",
    "\n",
    "# SVD method 2D\n",
    "t0_1 = time.time()\n",
    "(left_vectors, sigma, right_vectors) = np.linalg.svd(X)\n",
    "projection_coord_svd = X @ right_vectors[:,:2]\n",
    "t2 = time.time() - t0_1"
   ]
  },
  {
   "cell_type": "code",
   "execution_count": 51,
   "metadata": {},
   "outputs": [
    {
     "name": "stdout",
     "output_type": "stream",
     "text": [
      "The quickest solution is diagonalising in dim 2\n"
     ]
    }
   ],
   "source": [
    "# Which one if the quickest in 2D?\n",
    "quickest = ''\n",
    "if t1 < t2:\n",
    "    quickest = 'diagonalising'\n",
    "else:\n",
    "    quickest = 'SVD'\n",
    "print('The quickest solution is', quickest, 'in dim 2')"
   ]
  },
  {
   "cell_type": "code",
   "execution_count": 52,
   "metadata": {},
   "outputs": [],
   "source": [
    "# Diagonalising method 3D\n",
    "t0 = time.time()\n",
    "A = X.T@X\n",
    "(A_eigvals, A_eigvects) = np.linalg.eigh(A)\n",
    "A_eigvects = np.flip(A_eigvects, axis=1)\n",
    "projection_coordinates = X@A_eigvects[:,:3]\n",
    "t3 = time.time() - t0\n",
    "\n",
    "# SVD method 3D\n",
    "t0_1 = time.time()\n",
    "(left_vectors, sigma, right_vectors) = np.linalg.svd(X)\n",
    "projection_coord_svd = X@right_vectors[:,:3]\n",
    "t4 = time.time() - t0_1"
   ]
  },
  {
   "cell_type": "code",
   "execution_count": 53,
   "metadata": {},
   "outputs": [
    {
     "name": "stdout",
     "output_type": "stream",
     "text": [
      "The quickest solution is SVD in dim 3\n"
     ]
    }
   ],
   "source": [
    "# Which one if the quickest in 2D?\n",
    "quickest = ''\n",
    "if t3 < t4:\n",
    "    quickest = 'diagonalising'\n",
    "else:\n",
    "    quickest = 'SVD'\n",
    "print('The quickest solution is', quickest, 'in dim 3')"
   ]
  },
  {
   "cell_type": "markdown",
   "metadata": {},
   "source": [
    "#### Intuition on the timing output\n",
    "\n",
    "For the chosen matrices, the SVD method seems quicker.\n",
    "\n",
    "It is -intuitive that the answer should be the same for 2D and 3D, as the only operation to switch from 2D to 3D is the same for the two methods"
   ]
  },
  {
   "cell_type": "markdown",
   "metadata": {},
   "source": [
    "# Exercise 5 - Analysis of the auto-mpg dataset"
   ]
  },
  {
   "cell_type": "markdown",
   "metadata": {},
   "source": [
    "##### We aim at predicting cars consumption based on several characteristics : cylinders, displacement, horsepower, weight, acceleration, year, country and cars name. The output coding cars consumption (more precisely the “mpg”, i.e.,the distance ridden in miles for a gallon of oil) is written y ; For the first question we do not use the qualitative feature origin and car name. For all questions, do not use car name"
   ]
  },
  {
   "cell_type": "markdown",
   "metadata": {},
   "source": [
    "### Question 16"
   ]
  },
  {
   "cell_type": "code",
   "execution_count": 54,
   "metadata": {},
   "outputs": [
    {
     "name": "stderr",
     "output_type": "stream",
     "text": [
      "/Users/victoiredetermont/anaconda3/lib/python3.7/site-packages/ipykernel_launcher.py:3: ParserWarning: Falling back to the 'python' engine because the 'c' engine does not support regex separators (separators > 1 char and different from '\\s+' are interpreted as regex); you can avoid this warning by specifying engine='python'.\n",
      "  This is separate from the ipykernel package so we can avoid doing imports until\n"
     ]
    },
    {
     "data": {
      "text/plain": [
       "1              mpg\n",
       "2        cylinders\n",
       "3     displacement\n",
       "4       horsepower\n",
       "5           weight\n",
       "6     acceleration\n",
       "7       model year\n",
       "8           origin\n",
       "9         car name\n",
       "Name: 1, dtype: object"
      ]
     },
     "execution_count": 54,
     "metadata": {},
     "output_type": "execute_result"
    }
   ],
   "source": [
    "# Getting the names we need from the auto-mpg.names file\n",
    "import pandas as pd\n",
    "auto_mpg_names = pd.read_csv(\"auto-mpg.names\", sep = r\":\\s+\", comment = '#', error_bad_lines = False, skiprows = 28)\n",
    "\n",
    "# Getting the portion of table we need and removing the indexes in front by splitting after the period\n",
    "auto_mpg_names = (auto_mpg_names.iloc[1:10,0].str.split('.', expand = True)).iloc[:,1]\n",
    "auto_mpg_names"
   ]
  },
  {
   "cell_type": "code",
   "execution_count": 55,
   "metadata": {},
   "outputs": [
    {
     "data": {
      "text/html": [
       "<div>\n",
       "<style scoped>\n",
       "    .dataframe tbody tr th:only-of-type {\n",
       "        vertical-align: middle;\n",
       "    }\n",
       "\n",
       "    .dataframe tbody tr th {\n",
       "        vertical-align: top;\n",
       "    }\n",
       "\n",
       "    .dataframe thead th {\n",
       "        text-align: right;\n",
       "    }\n",
       "</style>\n",
       "<table border=\"1\" class=\"dataframe\">\n",
       "  <thead>\n",
       "    <tr style=\"text-align: right;\">\n",
       "      <th></th>\n",
       "      <th>mpg</th>\n",
       "      <th>cylinders</th>\n",
       "      <th>displacement</th>\n",
       "      <th>horsepower</th>\n",
       "      <th>weight</th>\n",
       "      <th>acceleration</th>\n",
       "      <th>model year</th>\n",
       "      <th>origin</th>\n",
       "      <th>car name</th>\n",
       "    </tr>\n",
       "  </thead>\n",
       "  <tbody>\n",
       "    <tr>\n",
       "      <th>0</th>\n",
       "      <td>18.0</td>\n",
       "      <td>8.0</td>\n",
       "      <td>307.0</td>\n",
       "      <td>130.0</td>\n",
       "      <td>3504.0</td>\n",
       "      <td>12.0</td>\n",
       "      <td>70.0</td>\n",
       "      <td>1.0</td>\n",
       "      <td>chevrolet chevelle malibu</td>\n",
       "    </tr>\n",
       "    <tr>\n",
       "      <th>1</th>\n",
       "      <td>15.0</td>\n",
       "      <td>8.0</td>\n",
       "      <td>350.0</td>\n",
       "      <td>165.0</td>\n",
       "      <td>3693.0</td>\n",
       "      <td>11.5</td>\n",
       "      <td>70.0</td>\n",
       "      <td>1.0</td>\n",
       "      <td>buick skylark 320</td>\n",
       "    </tr>\n",
       "    <tr>\n",
       "      <th>2</th>\n",
       "      <td>18.0</td>\n",
       "      <td>8.0</td>\n",
       "      <td>318.0</td>\n",
       "      <td>150.0</td>\n",
       "      <td>3436.0</td>\n",
       "      <td>11.0</td>\n",
       "      <td>70.0</td>\n",
       "      <td>1.0</td>\n",
       "      <td>plymouth satellite</td>\n",
       "    </tr>\n",
       "    <tr>\n",
       "      <th>3</th>\n",
       "      <td>16.0</td>\n",
       "      <td>8.0</td>\n",
       "      <td>304.0</td>\n",
       "      <td>150.0</td>\n",
       "      <td>3433.0</td>\n",
       "      <td>12.0</td>\n",
       "      <td>70.0</td>\n",
       "      <td>1.0</td>\n",
       "      <td>amc rebel sst</td>\n",
       "    </tr>\n",
       "    <tr>\n",
       "      <th>4</th>\n",
       "      <td>17.0</td>\n",
       "      <td>8.0</td>\n",
       "      <td>302.0</td>\n",
       "      <td>140.0</td>\n",
       "      <td>3449.0</td>\n",
       "      <td>10.5</td>\n",
       "      <td>70.0</td>\n",
       "      <td>1.0</td>\n",
       "      <td>ford torino</td>\n",
       "    </tr>\n",
       "  </tbody>\n",
       "</table>\n",
       "</div>"
      ],
      "text/plain": [
       "    mpg   cylinders   displacement   horsepower   weight   acceleration  \\\n",
       "0  18.0         8.0          307.0        130.0   3504.0           12.0   \n",
       "1  15.0         8.0          350.0        165.0   3693.0           11.5   \n",
       "2  18.0         8.0          318.0        150.0   3436.0           11.0   \n",
       "3  16.0         8.0          304.0        150.0   3433.0           12.0   \n",
       "4  17.0         8.0          302.0        140.0   3449.0           10.5   \n",
       "\n",
       "    model year   origin                   car name  \n",
       "0         70.0      1.0  chevrolet chevelle malibu  \n",
       "1         70.0      1.0          buick skylark 320  \n",
       "2         70.0      1.0         plymouth satellite  \n",
       "3         70.0      1.0              amc rebel sst  \n",
       "4         70.0      1.0                ford torino  "
      ]
     },
     "execution_count": 55,
     "metadata": {},
     "output_type": "execute_result"
    }
   ],
   "source": [
    "# Importing data \n",
    "# I keep an index as there is missing data to be removed in mpg column\n",
    "# I give names to my columns \n",
    "\n",
    "df = pd.read_csv('auto-mpg.data-original', sep = r\"\\s+\", names = auto_mpg_names)\n",
    "df.head()"
   ]
  },
  {
   "cell_type": "code",
   "execution_count": 56,
   "metadata": {},
   "outputs": [],
   "source": [
    "# Taking the spaces out of my column names\n",
    "df.columns = df.columns.str.replace(' ', '')\n",
    "\n",
    "# Ensuring that the first two digits of the year are encoded in case we have more recent years to add\n",
    "df.loc[:, 'modelyear'] = df.loc[:,'modelyear'] + 1900\n",
    "\n",
    "# Dropping the car names as we won't use the column \n",
    "df = df.drop(['carname'], axis=1)"
   ]
  },
  {
   "cell_type": "code",
   "execution_count": 57,
   "metadata": {},
   "outputs": [
    {
     "data": {
      "text/plain": [
       "1982.0"
      ]
     },
     "execution_count": 57,
     "metadata": {},
     "output_type": "execute_result"
    }
   ],
   "source": [
    "# A quick look at our dataset confirms that the data is very old! When predicting more recent cars, \n",
    "# we should be vigilant with our model.\n",
    "max(df['modelyear'])"
   ]
  },
  {
   "cell_type": "code",
   "execution_count": 58,
   "metadata": {},
   "outputs": [
    {
     "data": {
      "text/plain": [
       "(406, 8)"
      ]
     },
     "execution_count": 58,
     "metadata": {},
     "output_type": "execute_result"
    }
   ],
   "source": [
    "# Checking the shape of our dataframe before dropping the missing values\n",
    "df.shape"
   ]
  },
  {
   "cell_type": "code",
   "execution_count": 59,
   "metadata": {},
   "outputs": [
    {
     "data": {
      "text/html": [
       "<div>\n",
       "<style scoped>\n",
       "    .dataframe tbody tr th:only-of-type {\n",
       "        vertical-align: middle;\n",
       "    }\n",
       "\n",
       "    .dataframe tbody tr th {\n",
       "        vertical-align: top;\n",
       "    }\n",
       "\n",
       "    .dataframe thead th {\n",
       "        text-align: right;\n",
       "    }\n",
       "</style>\n",
       "<table border=\"1\" class=\"dataframe\">\n",
       "  <thead>\n",
       "    <tr style=\"text-align: right;\">\n",
       "      <th></th>\n",
       "      <th>mpg</th>\n",
       "      <th>cylinders</th>\n",
       "      <th>displacement</th>\n",
       "      <th>horsepower</th>\n",
       "      <th>weight</th>\n",
       "      <th>acceleration</th>\n",
       "      <th>modelyear</th>\n",
       "      <th>origin</th>\n",
       "    </tr>\n",
       "  </thead>\n",
       "  <tbody>\n",
       "    <tr>\n",
       "      <th>0</th>\n",
       "      <td>18.0</td>\n",
       "      <td>8.0</td>\n",
       "      <td>307.0</td>\n",
       "      <td>130.0</td>\n",
       "      <td>3504.0</td>\n",
       "      <td>12.0</td>\n",
       "      <td>1970.0</td>\n",
       "      <td>1.0</td>\n",
       "    </tr>\n",
       "    <tr>\n",
       "      <th>1</th>\n",
       "      <td>15.0</td>\n",
       "      <td>8.0</td>\n",
       "      <td>350.0</td>\n",
       "      <td>165.0</td>\n",
       "      <td>3693.0</td>\n",
       "      <td>11.5</td>\n",
       "      <td>1970.0</td>\n",
       "      <td>1.0</td>\n",
       "    </tr>\n",
       "    <tr>\n",
       "      <th>2</th>\n",
       "      <td>18.0</td>\n",
       "      <td>8.0</td>\n",
       "      <td>318.0</td>\n",
       "      <td>150.0</td>\n",
       "      <td>3436.0</td>\n",
       "      <td>11.0</td>\n",
       "      <td>1970.0</td>\n",
       "      <td>1.0</td>\n",
       "    </tr>\n",
       "    <tr>\n",
       "      <th>3</th>\n",
       "      <td>16.0</td>\n",
       "      <td>8.0</td>\n",
       "      <td>304.0</td>\n",
       "      <td>150.0</td>\n",
       "      <td>3433.0</td>\n",
       "      <td>12.0</td>\n",
       "      <td>1970.0</td>\n",
       "      <td>1.0</td>\n",
       "    </tr>\n",
       "    <tr>\n",
       "      <th>4</th>\n",
       "      <td>17.0</td>\n",
       "      <td>8.0</td>\n",
       "      <td>302.0</td>\n",
       "      <td>140.0</td>\n",
       "      <td>3449.0</td>\n",
       "      <td>10.5</td>\n",
       "      <td>1970.0</td>\n",
       "      <td>1.0</td>\n",
       "    </tr>\n",
       "  </tbody>\n",
       "</table>\n",
       "</div>"
      ],
      "text/plain": [
       "    mpg  cylinders  displacement  horsepower  weight  acceleration  modelyear  \\\n",
       "0  18.0        8.0         307.0       130.0  3504.0          12.0     1970.0   \n",
       "1  15.0        8.0         350.0       165.0  3693.0          11.5     1970.0   \n",
       "2  18.0        8.0         318.0       150.0  3436.0          11.0     1970.0   \n",
       "3  16.0        8.0         304.0       150.0  3433.0          12.0     1970.0   \n",
       "4  17.0        8.0         302.0       140.0  3449.0          10.5     1970.0   \n",
       "\n",
       "   origin  \n",
       "0     1.0  \n",
       "1     1.0  \n",
       "2     1.0  \n",
       "3     1.0  \n",
       "4     1.0  "
      ]
     },
     "execution_count": 59,
     "metadata": {},
     "output_type": "execute_result"
    }
   ],
   "source": [
    "# Removing lines with missing data (NaN written instead of missing values)\n",
    "df = df.dropna()\n",
    "df.head()"
   ]
  },
  {
   "cell_type": "code",
   "execution_count": 60,
   "metadata": {},
   "outputs": [
    {
     "data": {
      "text/plain": [
       "(392, 8)"
      ]
     },
     "execution_count": 60,
     "metadata": {},
     "output_type": "execute_result"
    }
   ],
   "source": [
    "# Checking the shape of our dataframe now\n",
    "df.shape"
   ]
  },
  {
   "cell_type": "markdown",
   "metadata": {},
   "source": [
    "### Question 17"
   ]
  },
  {
   "cell_type": "code",
   "execution_count": 61,
   "metadata": {},
   "outputs": [],
   "source": [
    "# Old - Using a mask to reaffect the origin to a country name\n",
    "#df.loc[:,'origin'][df.loc[:,'origin']==1] = 'USA'\n",
    "#df.loc[:,'origin'][df.loc[:,'origin']==2] = 'Europe'\n",
    "#df.loc[:,'origin'][df.loc[:,'origin']==3] = 'Japan'\n",
    "#df.head()"
   ]
  },
  {
   "cell_type": "code",
   "execution_count": 62,
   "metadata": {},
   "outputs": [],
   "source": [
    "# Installing category encoders\n",
    "# pip install category_encoders (on a terminal and not on Python)"
   ]
  },
  {
   "cell_type": "code",
   "execution_count": 63,
   "metadata": {},
   "outputs": [
    {
     "data": {
      "text/plain": [
       "(392, 10)"
      ]
     },
     "execution_count": 63,
     "metadata": {},
     "output_type": "execute_result"
    }
   ],
   "source": [
    "# Using a category encoder to code the origin\n",
    "# By default the category encoder sets origin to three columns as there is no intercept in our dataframe.\n",
    "import category_encoders as ce\n",
    "encoder = ce.OneHotEncoder(cols = ['origin'])\n",
    "encoder.fit(df)\n",
    "df = encoder.transform(df)\n",
    "df.head()\n",
    "df.shape"
   ]
  },
  {
   "cell_type": "code",
   "execution_count": 64,
   "metadata": {},
   "outputs": [
    {
     "data": {
      "text/html": [
       "<div>\n",
       "<style scoped>\n",
       "    .dataframe tbody tr th:only-of-type {\n",
       "        vertical-align: middle;\n",
       "    }\n",
       "\n",
       "    .dataframe tbody tr th {\n",
       "        vertical-align: top;\n",
       "    }\n",
       "\n",
       "    .dataframe thead th {\n",
       "        text-align: right;\n",
       "    }\n",
       "</style>\n",
       "<table border=\"1\" class=\"dataframe\">\n",
       "  <thead>\n",
       "    <tr style=\"text-align: right;\">\n",
       "      <th></th>\n",
       "      <th>mpg</th>\n",
       "      <th>cylinders</th>\n",
       "      <th>displacement</th>\n",
       "      <th>horsepower</th>\n",
       "      <th>weight</th>\n",
       "      <th>acceleration</th>\n",
       "      <th>modelyear</th>\n",
       "      <th>origin_1</th>\n",
       "      <th>origin_2</th>\n",
       "      <th>origin_3</th>\n",
       "    </tr>\n",
       "  </thead>\n",
       "  <tbody>\n",
       "    <tr>\n",
       "      <th>0</th>\n",
       "      <td>18.0</td>\n",
       "      <td>8.0</td>\n",
       "      <td>307.0</td>\n",
       "      <td>130.0</td>\n",
       "      <td>3504.0</td>\n",
       "      <td>12.0</td>\n",
       "      <td>1970.0</td>\n",
       "      <td>1</td>\n",
       "      <td>0</td>\n",
       "      <td>0</td>\n",
       "    </tr>\n",
       "    <tr>\n",
       "      <th>1</th>\n",
       "      <td>15.0</td>\n",
       "      <td>8.0</td>\n",
       "      <td>350.0</td>\n",
       "      <td>165.0</td>\n",
       "      <td>3693.0</td>\n",
       "      <td>11.5</td>\n",
       "      <td>1970.0</td>\n",
       "      <td>1</td>\n",
       "      <td>0</td>\n",
       "      <td>0</td>\n",
       "    </tr>\n",
       "    <tr>\n",
       "      <th>2</th>\n",
       "      <td>18.0</td>\n",
       "      <td>8.0</td>\n",
       "      <td>318.0</td>\n",
       "      <td>150.0</td>\n",
       "      <td>3436.0</td>\n",
       "      <td>11.0</td>\n",
       "      <td>1970.0</td>\n",
       "      <td>1</td>\n",
       "      <td>0</td>\n",
       "      <td>0</td>\n",
       "    </tr>\n",
       "    <tr>\n",
       "      <th>3</th>\n",
       "      <td>16.0</td>\n",
       "      <td>8.0</td>\n",
       "      <td>304.0</td>\n",
       "      <td>150.0</td>\n",
       "      <td>3433.0</td>\n",
       "      <td>12.0</td>\n",
       "      <td>1970.0</td>\n",
       "      <td>1</td>\n",
       "      <td>0</td>\n",
       "      <td>0</td>\n",
       "    </tr>\n",
       "    <tr>\n",
       "      <th>4</th>\n",
       "      <td>17.0</td>\n",
       "      <td>8.0</td>\n",
       "      <td>302.0</td>\n",
       "      <td>140.0</td>\n",
       "      <td>3449.0</td>\n",
       "      <td>10.5</td>\n",
       "      <td>1970.0</td>\n",
       "      <td>1</td>\n",
       "      <td>0</td>\n",
       "      <td>0</td>\n",
       "    </tr>\n",
       "  </tbody>\n",
       "</table>\n",
       "</div>"
      ],
      "text/plain": [
       "    mpg  cylinders  displacement  horsepower  weight  acceleration  modelyear  \\\n",
       "0  18.0        8.0         307.0       130.0  3504.0          12.0     1970.0   \n",
       "1  15.0        8.0         350.0       165.0  3693.0          11.5     1970.0   \n",
       "2  18.0        8.0         318.0       150.0  3436.0          11.0     1970.0   \n",
       "3  16.0        8.0         304.0       150.0  3433.0          12.0     1970.0   \n",
       "4  17.0        8.0         302.0       140.0  3449.0          10.5     1970.0   \n",
       "\n",
       "   origin_1  origin_2  origin_3  \n",
       "0         1         0         0  \n",
       "1         1         0         0  \n",
       "2         1         0         0  \n",
       "3         1         0         0  \n",
       "4         1         0         0  "
      ]
     },
     "execution_count": 64,
     "metadata": {},
     "output_type": "execute_result"
    }
   ],
   "source": [
    "df.head()"
   ]
  },
  {
   "cell_type": "markdown",
   "metadata": {},
   "source": [
    "### Question 18"
   ]
  },
  {
   "cell_type": "code",
   "execution_count": 65,
   "metadata": {},
   "outputs": [],
   "source": [
    "# We recall that we want to predict car consumption (mpg) which is written y \n",
    "\n",
    "# We randomly select 9 rows in our dataframe to make the training data for us to fit the model, making sure that \n",
    "# we have a diversified sample\n",
    "\n",
    "# iloc for positions, loc for labels \n",
    "idx = np.random.choice(X.shape[0], size = 9, replace = False)\n",
    "idx[-1] = 388 # we want to be sure to have at least 2 different origins\n",
    "df2 = df.iloc[idx,:]"
   ]
  },
  {
   "cell_type": "code",
   "execution_count": 66,
   "metadata": {},
   "outputs": [
    {
     "data": {
      "text/html": [
       "<div>\n",
       "<style scoped>\n",
       "    .dataframe tbody tr th:only-of-type {\n",
       "        vertical-align: middle;\n",
       "    }\n",
       "\n",
       "    .dataframe tbody tr th {\n",
       "        vertical-align: top;\n",
       "    }\n",
       "\n",
       "    .dataframe thead th {\n",
       "        text-align: right;\n",
       "    }\n",
       "</style>\n",
       "<table border=\"1\" class=\"dataframe\">\n",
       "  <thead>\n",
       "    <tr style=\"text-align: right;\">\n",
       "      <th></th>\n",
       "      <th>mpg</th>\n",
       "      <th>cylinders</th>\n",
       "      <th>displacement</th>\n",
       "      <th>horsepower</th>\n",
       "      <th>weight</th>\n",
       "      <th>acceleration</th>\n",
       "      <th>modelyear</th>\n",
       "      <th>origin_1</th>\n",
       "      <th>origin_2</th>\n",
       "      <th>origin_3</th>\n",
       "    </tr>\n",
       "  </thead>\n",
       "  <tbody>\n",
       "    <tr>\n",
       "      <th>15</th>\n",
       "      <td>15.0</td>\n",
       "      <td>8.0</td>\n",
       "      <td>383.0</td>\n",
       "      <td>170.0</td>\n",
       "      <td>3563.0</td>\n",
       "      <td>10.0</td>\n",
       "      <td>1970.0</td>\n",
       "      <td>1</td>\n",
       "      <td>0</td>\n",
       "      <td>0</td>\n",
       "    </tr>\n",
       "    <tr>\n",
       "      <th>7</th>\n",
       "      <td>14.0</td>\n",
       "      <td>8.0</td>\n",
       "      <td>440.0</td>\n",
       "      <td>215.0</td>\n",
       "      <td>4312.0</td>\n",
       "      <td>8.5</td>\n",
       "      <td>1970.0</td>\n",
       "      <td>1</td>\n",
       "      <td>0</td>\n",
       "      <td>0</td>\n",
       "    </tr>\n",
       "    <tr>\n",
       "      <th>3</th>\n",
       "      <td>16.0</td>\n",
       "      <td>8.0</td>\n",
       "      <td>304.0</td>\n",
       "      <td>150.0</td>\n",
       "      <td>3433.0</td>\n",
       "      <td>12.0</td>\n",
       "      <td>1970.0</td>\n",
       "      <td>1</td>\n",
       "      <td>0</td>\n",
       "      <td>0</td>\n",
       "    </tr>\n",
       "    <tr>\n",
       "      <th>6</th>\n",
       "      <td>14.0</td>\n",
       "      <td>8.0</td>\n",
       "      <td>454.0</td>\n",
       "      <td>220.0</td>\n",
       "      <td>4354.0</td>\n",
       "      <td>9.0</td>\n",
       "      <td>1970.0</td>\n",
       "      <td>1</td>\n",
       "      <td>0</td>\n",
       "      <td>0</td>\n",
       "    </tr>\n",
       "    <tr>\n",
       "      <th>20</th>\n",
       "      <td>24.0</td>\n",
       "      <td>4.0</td>\n",
       "      <td>113.0</td>\n",
       "      <td>95.0</td>\n",
       "      <td>2372.0</td>\n",
       "      <td>15.0</td>\n",
       "      <td>1970.0</td>\n",
       "      <td>0</td>\n",
       "      <td>1</td>\n",
       "      <td>0</td>\n",
       "    </tr>\n",
       "    <tr>\n",
       "      <th>2</th>\n",
       "      <td>18.0</td>\n",
       "      <td>8.0</td>\n",
       "      <td>318.0</td>\n",
       "      <td>150.0</td>\n",
       "      <td>3436.0</td>\n",
       "      <td>11.0</td>\n",
       "      <td>1970.0</td>\n",
       "      <td>1</td>\n",
       "      <td>0</td>\n",
       "      <td>0</td>\n",
       "    </tr>\n",
       "    <tr>\n",
       "      <th>18</th>\n",
       "      <td>15.0</td>\n",
       "      <td>8.0</td>\n",
       "      <td>400.0</td>\n",
       "      <td>150.0</td>\n",
       "      <td>3761.0</td>\n",
       "      <td>9.5</td>\n",
       "      <td>1970.0</td>\n",
       "      <td>1</td>\n",
       "      <td>0</td>\n",
       "      <td>0</td>\n",
       "    </tr>\n",
       "    <tr>\n",
       "      <th>9</th>\n",
       "      <td>15.0</td>\n",
       "      <td>8.0</td>\n",
       "      <td>390.0</td>\n",
       "      <td>190.0</td>\n",
       "      <td>3850.0</td>\n",
       "      <td>8.5</td>\n",
       "      <td>1970.0</td>\n",
       "      <td>1</td>\n",
       "      <td>0</td>\n",
       "      <td>0</td>\n",
       "    </tr>\n",
       "    <tr>\n",
       "      <th>402</th>\n",
       "      <td>44.0</td>\n",
       "      <td>4.0</td>\n",
       "      <td>97.0</td>\n",
       "      <td>52.0</td>\n",
       "      <td>2130.0</td>\n",
       "      <td>24.6</td>\n",
       "      <td>1982.0</td>\n",
       "      <td>0</td>\n",
       "      <td>0</td>\n",
       "      <td>1</td>\n",
       "    </tr>\n",
       "  </tbody>\n",
       "</table>\n",
       "</div>"
      ],
      "text/plain": [
       "      mpg  cylinders  displacement  horsepower  weight  acceleration  \\\n",
       "15   15.0        8.0         383.0       170.0  3563.0          10.0   \n",
       "7    14.0        8.0         440.0       215.0  4312.0           8.5   \n",
       "3    16.0        8.0         304.0       150.0  3433.0          12.0   \n",
       "6    14.0        8.0         454.0       220.0  4354.0           9.0   \n",
       "20   24.0        4.0         113.0        95.0  2372.0          15.0   \n",
       "2    18.0        8.0         318.0       150.0  3436.0          11.0   \n",
       "18   15.0        8.0         400.0       150.0  3761.0           9.5   \n",
       "9    15.0        8.0         390.0       190.0  3850.0           8.5   \n",
       "402  44.0        4.0          97.0        52.0  2130.0          24.6   \n",
       "\n",
       "     modelyear  origin_1  origin_2  origin_3  \n",
       "15      1970.0         1         0         0  \n",
       "7       1970.0         1         0         0  \n",
       "3       1970.0         1         0         0  \n",
       "6       1970.0         1         0         0  \n",
       "20      1970.0         0         1         0  \n",
       "2       1970.0         1         0         0  \n",
       "18      1970.0         1         0         0  \n",
       "9       1970.0         1         0         0  \n",
       "402     1982.0         0         0         1  "
      ]
     },
     "execution_count": 66,
     "metadata": {},
     "output_type": "execute_result"
    }
   ],
   "source": [
    "df2"
   ]
  },
  {
   "cell_type": "code",
   "execution_count": 67,
   "metadata": {},
   "outputs": [],
   "source": [
    "# Building the vectors and matrices for regression\n",
    "\n",
    "# we want to build x the matrix used for regression and y our target (mpg)\n",
    "# We consider only columns from Cylinders to origin_Japan for x, eg quantitative variables\n",
    "\n",
    "X_data = df2.iloc[:,1:]\n",
    "Y_data = df2.iloc[:,0]"
   ]
  },
  {
   "cell_type": "code",
   "execution_count": 68,
   "metadata": {},
   "outputs": [
    {
     "name": "stdout",
     "output_type": "stream",
     "text": [
      "the predictions are: [15.08316938 14.15932336 16.87124399 13.61822668 24.         16.74424014\n",
      " 15.1561783  15.36761816 44.        ]\n",
      "the true values are: 15     15.0\n",
      "7      14.0\n",
      "3      16.0\n",
      "6      14.0\n",
      "20     24.0\n",
      "2      18.0\n",
      "18     15.0\n",
      "9      15.0\n",
      "402    44.0\n",
      "Name: mpg, dtype: float64\n",
      "theta for the model is: [-7.04699873e-01 -2.83729720e-02 -1.07978533e-02  1.03961068e-03\n",
      " -2.67098926e-01  1.81427139e+00 -1.76174968e-01  2.49856860e-02\n",
      "  1.51189282e-01]\n"
     ]
    }
   ],
   "source": [
    "# Doing the regression\n",
    "# No intercept column need as it is automatically taken into account by Python here \n",
    "\n",
    "from sklearn import linear_model\n",
    "lm = linear_model.LinearRegression(fit_intercept=True)\n",
    "\n",
    "# The lm.fit() function fits a linear model\n",
    "model = lm.fit(X_data, Y_data) \n",
    "\n",
    "# We want to use the model to make predictions , so we’ll use lm.predict()\n",
    "predictions = lm.predict(X_data)\n",
    "\n",
    "# We also want to display theta \n",
    "theta = model.coef_ \n",
    "\n",
    "# We print the true values and the theta of our model\n",
    "print('the predictions are:', predictions)\n",
    "print('the true values are:', Y_data)\n",
    "print('theta for the model is:', theta)"
   ]
  },
  {
   "cell_type": "code",
   "execution_count": 69,
   "metadata": {},
   "outputs": [
    {
     "name": "stdout",
     "output_type": "stream",
     "text": [
      "R² is  0.9964645502849903\n"
     ]
    }
   ],
   "source": [
    "# This is the R² score of our model ie the percentage of explained variance of the predictions\n",
    "print('R² is ',lm.score(X_data, Y_data))"
   ]
  },
  {
   "cell_type": "code",
   "execution_count": 70,
   "metadata": {},
   "outputs": [
    {
     "data": {
      "text/html": [
       "<div>\n",
       "<style scoped>\n",
       "    .dataframe tbody tr th:only-of-type {\n",
       "        vertical-align: middle;\n",
       "    }\n",
       "\n",
       "    .dataframe tbody tr th {\n",
       "        vertical-align: top;\n",
       "    }\n",
       "\n",
       "    .dataframe thead th {\n",
       "        text-align: right;\n",
       "    }\n",
       "</style>\n",
       "<table border=\"1\" class=\"dataframe\">\n",
       "  <thead>\n",
       "    <tr style=\"text-align: right;\">\n",
       "      <th></th>\n",
       "      <th>Coeff</th>\n",
       "    </tr>\n",
       "  </thead>\n",
       "  <tbody>\n",
       "    <tr>\n",
       "      <th>cylinders</th>\n",
       "      <td>-0.704700</td>\n",
       "    </tr>\n",
       "    <tr>\n",
       "      <th>displacement</th>\n",
       "      <td>-0.028373</td>\n",
       "    </tr>\n",
       "    <tr>\n",
       "      <th>horsepower</th>\n",
       "      <td>-0.010798</td>\n",
       "    </tr>\n",
       "    <tr>\n",
       "      <th>weight</th>\n",
       "      <td>0.001040</td>\n",
       "    </tr>\n",
       "    <tr>\n",
       "      <th>acceleration</th>\n",
       "      <td>-0.267099</td>\n",
       "    </tr>\n",
       "    <tr>\n",
       "      <th>modelyear</th>\n",
       "      <td>1.814271</td>\n",
       "    </tr>\n",
       "    <tr>\n",
       "      <th>origin_1</th>\n",
       "      <td>-0.176175</td>\n",
       "    </tr>\n",
       "    <tr>\n",
       "      <th>origin_2</th>\n",
       "      <td>0.024986</td>\n",
       "    </tr>\n",
       "    <tr>\n",
       "      <th>origin_3</th>\n",
       "      <td>0.151189</td>\n",
       "    </tr>\n",
       "  </tbody>\n",
       "</table>\n",
       "</div>"
      ],
      "text/plain": [
       "                 Coeff\n",
       "cylinders    -0.704700\n",
       "displacement -0.028373\n",
       "horsepower   -0.010798\n",
       "weight        0.001040\n",
       "acceleration -0.267099\n",
       "modelyear     1.814271\n",
       "origin_1     -0.176175\n",
       "origin_2      0.024986\n",
       "origin_3      0.151189"
      ]
     },
     "execution_count": 70,
     "metadata": {},
     "output_type": "execute_result"
    }
   ],
   "source": [
    "# Printing theta \n",
    "pd.DataFrame(data=theta, index=df2.columns[1:], columns=['Coeff'])"
   ]
  },
  {
   "cell_type": "code",
   "execution_count": 71,
   "metadata": {},
   "outputs": [
    {
     "data": {
      "text/plain": [
       "-3541.548347551718"
      ]
     },
     "execution_count": 71,
     "metadata": {},
     "output_type": "execute_result"
    }
   ],
   "source": [
    "model.intercept_"
   ]
  },
  {
   "cell_type": "markdown",
   "metadata": {},
   "source": [
    "#### Observations:  \n",
    "Model year is the variable that most impacts mpg in this model, followed by acceleration and cylinders."
   ]
  },
  {
   "cell_type": "markdown",
   "metadata": {},
   "source": [
    "### Question 19"
   ]
  },
  {
   "cell_type": "markdown",
   "metadata": {},
   "source": [
    "#### Now, get the least-squares estimator and the prediction vector (with intercept) over the whole dataset, after performing scaling/centering "
   ]
  },
  {
   "cell_type": "code",
   "execution_count": 72,
   "metadata": {},
   "outputs": [],
   "source": [
    "# as we are making the regression manually, we have to add the intercept column\n",
    "# we must add the column after it is centered and scaled because otherwise just a colum of O"
   ]
  },
  {
   "cell_type": "code",
   "execution_count": 73,
   "metadata": {},
   "outputs": [
    {
     "name": "stdout",
     "output_type": "stream",
     "text": [
      "[ 0. -0. -0. -0. -0.  0. -0.  0.  0.  0.]\n",
      "[1. 1. 1. 1. 1. 1. 1. 1. 1. 1.]\n"
     ]
    }
   ],
   "source": [
    "# Scaling / centering data \n",
    "df_to_process = df.loc[:, 'mpg':'origin_3'] # we want all the rows but only quantitative columns \n",
    "df_scaled = preprocessing.scale(np.asmatrix(df_to_process), axis = 0) # we scale / center data\n",
    "\n",
    "# Checking that our re-scaling worked\n",
    "print(np.around(np.mean(df_scaled, axis =0),2))\n",
    "print(np.var(df_scaled, axis=0))"
   ]
  },
  {
   "cell_type": "code",
   "execution_count": 74,
   "metadata": {},
   "outputs": [],
   "source": [
    "# Writing the vector Y and the matrix X for regression \n",
    "X_data1 = df_scaled[:,1:]\n",
    "Y_data1 = df_to_process.iloc[:,0] # we don't want to scale Y"
   ]
  },
  {
   "cell_type": "code",
   "execution_count": 75,
   "metadata": {},
   "outputs": [
    {
     "name": "stdout",
     "output_type": "stream",
     "text": [
      "(392, 9)\n",
      "(392,)\n"
     ]
    }
   ],
   "source": [
    "# Check that we have all columns taken into account\n",
    "print(X_data1.shape)\n",
    "print(Y_data1.shape)"
   ]
  },
  {
   "cell_type": "code",
   "execution_count": 76,
   "metadata": {},
   "outputs": [],
   "source": [
    "# Doing the regression for all rows \n",
    "model_total = lm.fit(X_data1, Y_data1)\n",
    "# Getting the predictions : we aren't printing them, it would be too long\n",
    "predictions_total = lm.predict(X_data1)\n",
    "theta1 = model_total.coef_ "
   ]
  },
  {
   "cell_type": "code",
   "execution_count": 77,
   "metadata": {},
   "outputs": [
    {
     "data": {
      "text/html": [
       "<div>\n",
       "<style scoped>\n",
       "    .dataframe tbody tr th:only-of-type {\n",
       "        vertical-align: middle;\n",
       "    }\n",
       "\n",
       "    .dataframe tbody tr th {\n",
       "        vertical-align: top;\n",
       "    }\n",
       "\n",
       "    .dataframe thead th {\n",
       "        text-align: right;\n",
       "    }\n",
       "</style>\n",
       "<table border=\"1\" class=\"dataframe\">\n",
       "  <thead>\n",
       "    <tr style=\"text-align: right;\">\n",
       "      <th></th>\n",
       "      <th>Coeff</th>\n",
       "    </tr>\n",
       "  </thead>\n",
       "  <tbody>\n",
       "    <tr>\n",
       "      <th>cylinders</th>\n",
       "      <td>-0.834272</td>\n",
       "    </tr>\n",
       "    <tr>\n",
       "      <th>displacement</th>\n",
       "      <td>2.506019</td>\n",
       "    </tr>\n",
       "    <tr>\n",
       "      <th>horsepower</th>\n",
       "      <td>-0.699009</td>\n",
       "    </tr>\n",
       "    <tr>\n",
       "      <th>weight</th>\n",
       "      <td>-5.692543</td>\n",
       "    </tr>\n",
       "    <tr>\n",
       "      <th>acceleration</th>\n",
       "      <td>0.217956</td>\n",
       "    </tr>\n",
       "    <tr>\n",
       "      <th>modelyear</th>\n",
       "      <td>2.858709</td>\n",
       "    </tr>\n",
       "    <tr>\n",
       "      <th>origin_1</th>\n",
       "      <td>-0.751539</td>\n",
       "    </tr>\n",
       "    <tr>\n",
       "      <th>origin_2</th>\n",
       "      <td>0.521830</td>\n",
       "    </tr>\n",
       "    <tr>\n",
       "      <th>origin_3</th>\n",
       "      <td>0.408048</td>\n",
       "    </tr>\n",
       "  </tbody>\n",
       "</table>\n",
       "</div>"
      ],
      "text/plain": [
       "                 Coeff\n",
       "cylinders    -0.834272\n",
       "displacement  2.506019\n",
       "horsepower   -0.699009\n",
       "weight       -5.692543\n",
       "acceleration  0.217956\n",
       "modelyear     2.858709\n",
       "origin_1     -0.751539\n",
       "origin_2      0.521830\n",
       "origin_3      0.408048"
      ]
     },
     "execution_count": 77,
     "metadata": {},
     "output_type": "execute_result"
    }
   ],
   "source": [
    "# Printing theta1\n",
    "pd.DataFrame(data=theta1, index=df2.columns[1:], columns=['Coeff'])"
   ]
  },
  {
   "cell_type": "code",
   "execution_count": 78,
   "metadata": {},
   "outputs": [
    {
     "data": {
      "text/plain": [
       "23.44591836734694"
      ]
     },
     "execution_count": 78,
     "metadata": {},
     "output_type": "execute_result"
    }
   ],
   "source": [
    "model_total.intercept_"
   ]
  },
  {
   "cell_type": "markdown",
   "metadata": {},
   "source": [
    "#### Which variables seem to best explain gasoline consumption according to your model ?"
   ]
  },
  {
   "cell_type": "markdown",
   "metadata": {},
   "source": [
    "The best coefficient to explain the miles per gallon is weight. As we would have inferred intuitively, the heavier the car, the less miles per gallon it can complete. \n",
    "\n",
    "Model year and displacement are the second best coefficients to explain mpg. \n",
    "The higher the displacement and the more recent the model year, the more miles per gallon are completed by the car. "
   ]
  },
  {
   "cell_type": "markdown",
   "metadata": {},
   "source": [
    "If we hadn't normalised the data, some features would've had disproportionate weights in explaining the miles per gallon. For instance, we could not have compared weight to origin. "
   ]
  },
  {
   "cell_type": "markdown",
   "metadata": {},
   "source": [
    "### Question 20"
   ]
  },
  {
   "cell_type": "markdown",
   "metadata": {},
   "source": [
    "#### Compute ||r||^2 (the square norm of the residual vector, r = y - Xθ)"
   ]
  },
  {
   "cell_type": "code",
   "execution_count": 79,
   "metadata": {},
   "outputs": [
    {
     "name": "stdout",
     "output_type": "stream",
     "text": [
      "the shape of y is:  (392,)\n",
      "the shape of the prediction vector is:  (392,)\n"
     ]
    }
   ],
   "source": [
    "print('the shape of y is: ', Y_data1.shape)\n",
    "print('the shape of the prediction vector is: ', predictions_total.shape)"
   ]
  },
  {
   "cell_type": "code",
   "execution_count": 80,
   "metadata": {},
   "outputs": [
    {
     "name": "stdout",
     "output_type": "stream",
     "text": [
      "the square norm of the residual vector is:  4187.391678082952\n"
     ]
    }
   ],
   "source": [
    "# predictions = X*theta \n",
    "residuals = Y_data1 - predictions_total\n",
    "residuals_norm = np.linalg.norm(residuals)**2\n",
    "print('the square norm of the residual vector is: ', residuals_norm)"
   ]
  },
  {
   "cell_type": "code",
   "execution_count": 81,
   "metadata": {},
   "outputs": [
    {
     "data": {
      "text/plain": [
       "10.682121627762633"
      ]
     },
     "execution_count": 81,
     "metadata": {},
     "output_type": "execute_result"
    }
   ],
   "source": [
    "# If we want to get the MSE, we should divide by len(residuals)\n",
    "residuals_norm/len(residuals)"
   ]
  },
  {
   "cell_type": "markdown",
   "metadata": {},
   "source": [
    "#### Check numerically the given equality"
   ]
  },
  {
   "cell_type": "code",
   "execution_count": 82,
   "metadata": {},
   "outputs": [],
   "source": [
    "# Building a function to obtain the left part of the equality depending on n\n",
    "def left(n):\n",
    "    y = sum(Y_data1[:n]) / n\n",
    "    return np.linalg.norm(Y_data1 - y)**2 # we can write only y : substracts row by row "
   ]
  },
  {
   "cell_type": "code",
   "execution_count": 83,
   "metadata": {},
   "outputs": [],
   "source": [
    "# Building a function to obtain the right part of the equality depending on n\n",
    "def right(n):\n",
    "    y = sum(Y_data1[:n]) / n\n",
    "    return residuals_norm + np.linalg.norm(predictions_total - y)**2"
   ]
  },
  {
   "cell_type": "code",
   "execution_count": 84,
   "metadata": {},
   "outputs": [
    {
     "data": {
      "text/plain": [
       "True"
      ]
     },
     "execution_count": 84,
     "metadata": {},
     "output_type": "execute_result"
    }
   ],
   "source": [
    "# Testing the equality for a single value of n = 10\n",
    "np.isclose(left(len(residuals)), right(len(residuals)))"
   ]
  },
  {
   "cell_type": "markdown",
   "metadata": {},
   "source": [
    "### Question 21"
   ]
  },
  {
   "cell_type": "markdown",
   "metadata": {},
   "source": [
    "##### Assume that you observe a new car with the following features:\n",
    "cylinders : 6 , displacement : 225 , horsepower : 100  , weight : 3233  , acceleration : 15.4  , year : 2017 , origin : USA \n",
    "\n",
    "##### Can you predict its consumption in this model? Beware of the year encoding"
   ]
  },
  {
   "cell_type": "code",
   "execution_count": 85,
   "metadata": {},
   "outputs": [],
   "source": [
    "# Before starting, we can see that we have to do something to the year\n",
    "# In the dataset we have, years are only the last 2 numbers, and all signify 19..\n",
    "# So we have to modify the number in order to have 19.. to compare it to 2017\n",
    "# also, we don't know where the car comes from so we will not use the origin columns \n",
    "# and then we will scale it again"
   ]
  },
  {
   "cell_type": "code",
   "execution_count": 86,
   "metadata": {},
   "outputs": [
    {
     "data": {
      "text/plain": [
       "(1, 9)"
      ]
     },
     "execution_count": 86,
     "metadata": {},
     "output_type": "execute_result"
    }
   ],
   "source": [
    "# Building the vector with the information coming from the new car and forcing it into the right shape. \n",
    "new_car = np.array([6, 225, 100, 3233, 15.4, 2017, 1, 0, 0]).reshape(1,-1)\n",
    "new_car.shape"
   ]
  },
  {
   "cell_type": "code",
   "execution_count": 87,
   "metadata": {},
   "outputs": [],
   "source": [
    "# pipeline :\n",
    "\n",
    "# You want to have mean 0 and var 1: first you fit your model\n",
    "# you need to use the same transformation as before for new data using the same transformation as before \n",
    "# pipeline stores the information from previous experience and then predicts the result"
   ]
  },
  {
   "cell_type": "code",
   "execution_count": 88,
   "metadata": {},
   "outputs": [
    {
     "name": "stdout",
     "output_type": "stream",
     "text": [
      "the predicted mpg for the new car is [53.11965664]\n"
     ]
    }
   ],
   "source": [
    "from sklearn.preprocessing import StandardScaler\n",
    "from sklearn.pipeline import Pipeline\n",
    "\n",
    "pipeline = Pipeline([\n",
    "    ('scale', StandardScaler()),\n",
    "    ('reg', linear_model.LinearRegression(fit_intercept=True))])\n",
    "\n",
    "# As I use StandardScaler in my pipeline, I have to use non scaled data for x and y\n",
    "mpg_predicted = pipeline.fit(df_to_process.iloc[:,1:], df_to_process.iloc[:,0]).predict(new_car)\n",
    "print('the predicted mpg for the new car is', mpg_predicted)"
   ]
  },
  {
   "cell_type": "markdown",
   "metadata": {},
   "source": [
    "The prediction is very high compared to our current dataset of mean 23 and max value 47.  \n",
    "However, we can assume that this is normal given that :  \n",
    "i) The model year is very recent : 2017 versus 1982 max model year in the training dataset.   \n",
    "ii) The displacement of 225 is above the 151 median displacement in our dataset which also makes mpg higher.  \n",
    "However, weight is higher than the medium weight in the dataset but we can consider this negligeable given the jump in model year.  "
   ]
  },
  {
   "cell_type": "markdown",
   "metadata": {},
   "source": [
    "Note that, as stated previously, the data is very old : we should be very careful when predicting mpg of very recent car (nearly 40 years have passed since our last datapoint)."
   ]
  }
 ],
 "metadata": {
  "kernelspec": {
   "display_name": "Python 3",
   "language": "python",
   "name": "python3"
  },
  "language_info": {
   "codemirror_mode": {
    "name": "ipython",
    "version": 3
   },
   "file_extension": ".py",
   "mimetype": "text/x-python",
   "name": "python",
   "nbconvert_exporter": "python",
   "pygments_lexer": "ipython3",
   "version": "3.7.3"
  }
 },
 "nbformat": 4,
 "nbformat_minor": 2
}
